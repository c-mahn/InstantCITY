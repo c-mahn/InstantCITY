{
 "cells": [
  {
   "cell_type": "code",
   "execution_count": null,
   "metadata": {
    "id": "W8tn0zdsa7yi"
   },
   "outputs": [],
   "source": [
    "# Clone Repository of InstantCity\n",
    "!rm -rf ./InstantCity/\n",
    "!git clone https://github.com/ualsg/InstantCity"
   ]
  },
  {
   "cell_type": "code",
   "execution_count": null,
   "metadata": {
    "id": "6hD0N7VPbNza"
   },
   "outputs": [],
   "source": [
    "# Change working directory to InstantCity\n",
    "%cd InstantCity"
   ]
  },
  {
   "cell_type": "code",
   "execution_count": null,
   "metadata": {
    "id": "L2SslF3hbQ2W"
   },
   "outputs": [],
   "source": [
    "# What's inside\n",
    "!ls"
   ]
  },
  {
   "cell_type": "code",
   "execution_count": null,
   "metadata": {
    "id": "xhoCvN93M-1P"
   },
   "outputs": [],
   "source": [
    "!cat ./README.md"
   ]
  },
  {
   "cell_type": "code",
   "execution_count": null,
   "metadata": {
    "id": "EVDTl8iMcz0B"
   },
   "outputs": [],
   "source": [
    "!python --version"
   ]
  },
  {
   "cell_type": "code",
   "execution_count": null,
   "metadata": {
    "id": "F0NgPJbPrzae"
   },
   "outputs": [],
   "source": [
    "# !pip install condacolab\n",
    "# import condacolab\n",
    "# condacolab.install()\n",
    "# !conda --version\n",
    "# !which conda"
   ]
  },
  {
   "cell_type": "code",
   "execution_count": null,
   "metadata": {
    "id": "H6YwbdKTc1g0"
   },
   "outputs": [],
   "source": [
    "# install modules\n",
    "!pip install pathlib\n",
    "!pip install dominate\n",
    "!pip install scipy\n",
    "!pip install torch\n",
    "!pip install Pillow\n",
    "!pip install torchvision"
   ]
  },
  {
   "cell_type": "code",
   "execution_count": null,
   "metadata": {
    "id": "xm8J-81Ufr55"
   },
   "outputs": [],
   "source": [
    "# Connect to Google Drive to retreive GANmapper_Data\n",
    "# from google.colab import drive\n",
    "# drive.mount('/content/drive')\n",
    "# !ls /content/drive/MyDrive/GANmapper_Data/"
   ]
  },
  {
   "cell_type": "code",
   "execution_count": null,
   "metadata": {
    "id": "5yhJx8jvM1Jw"
   },
   "outputs": [],
   "source": [
    "# Copy the testing data from GANmapper_Data\n",
    "# !cp -r /content/drive/MyDrive/GANmapper_Data/checkpoints /content/InstantCity/\n",
    "# !cp -r /content/drive/MyDrive/GANmapper_Data/datasets /content/InstantCity/"
   ]
  },
  {
   "cell_type": "code",
   "execution_count": null,
   "metadata": {},
   "outputs": [],
   "source": [
    "# Unzip GANmapper data\n",
    "!unzip -q -o ../GANmapper\\ Data.zip\n",
    "# And move it to the current folders\n",
    "!cp -r ./GANmapper\\ Data/checkpoints .\n",
    "!cp -r ./GANmapper\\ Data/datasets ."
   ]
  },
  {
   "cell_type": "code",
   "execution_count": null,
   "metadata": {
    "id": "Q4dkk1_lvtNV"
   },
   "outputs": [],
   "source": [
    "# What's inside datasets?\n",
    "!ls ./datasets\n",
    "!ls ./datasets/Exp4/"
   ]
  },
  {
   "cell_type": "code",
   "execution_count": null,
   "metadata": {
    "id": "eCgUc5X0M6iB"
   },
   "outputs": [],
   "source": [
    "# What's inside checkpoints?\n",
    "!ls ./checkpoints/\n",
    "!ls ./checkpoints/Exp3/\n",
    "!ls ./checkpoints/Exp3/Singapore/"
   ]
  },
  {
   "cell_type": "code",
   "execution_count": null,
   "metadata": {
    "id": "VzrL9VEw67Mq"
   },
   "outputs": [],
   "source": [
    "# Copy modified python-scripts, to fix mistakes in the repo\n",
    "!cp ../modified_files/train.py ./\n",
    "!cp ../modified_files/test.py ./\n",
    "!cp ../modified_files/pix2pixHD_model.py ./models/\n",
    "!cp ../modified_files/models.py ./models/\n",
    "!cp ../modified_files/image_folder.py ./data/\n",
    "!cp ../modified_files/aligned_dataset.py ./data/"
   ]
  },
  {
   "cell_type": "code",
   "execution_count": null,
   "metadata": {
    "id": "VrHnqJ_jbTQz"
   },
   "outputs": [],
   "source": [
    "# What's in the test script?\n",
    "!cat train.py"
   ]
  },
  {
   "cell_type": "code",
   "execution_count": null,
   "metadata": {
    "id": "gW9hGeFV0w2D"
   },
   "outputs": [],
   "source": [
    "# What are the test's parameters?\n",
    "!cat ./options/train_options.py"
   ]
  },
  {
   "cell_type": "code",
   "execution_count": null,
   "metadata": {},
   "outputs": [],
   "source": [
    "# Create the training folder structure\n",
    "!rm -r ./training_data\n",
    "!mkdir ./training_data\n",
    "!mkdir ./training_data/train_A\n",
    "!mkdir ./training_data/train_B"
   ]
  },
  {
   "cell_type": "code",
   "execution_count": null,
   "metadata": {},
   "outputs": [],
   "source": [
    "# Copy training images of Singapore to the training directory\n",
    "!ls ./datasets/Exp4/\n",
    "!cp -r ./datasets/Exp4/Singapore/Source/* ./training_data/train_A/\n",
    "!cp -r ./datasets/Exp4/Singapore/Target/* ./training_data/train_B/"
   ]
  },
  {
   "cell_type": "code",
   "execution_count": null,
   "metadata": {},
   "outputs": [],
   "source": [
    "# Copy training images of Allermöhe to the training directory\n",
    "!cp -r ../data_training/allermoehe_source/* ./training_data/train_A/\n",
    "!cp -r ../data_training/allermoehe_target/* ./training_data/train_B/"
   ]
  },
  {
   "cell_type": "code",
   "execution_count": null,
   "metadata": {},
   "outputs": [],
   "source": [
    "# Copy training images of Allermöhe to the training directory\n",
    "!cp -r ../data_training/allermoehe_source_2/* ./training_data/train_A/\n",
    "!cp -r ../data_training/allermoehe_target_2/* ./training_data/train_B/"
   ]
  },
  {
   "cell_type": "code",
   "execution_count": null,
   "metadata": {
    "id": "Oci-_Z9lSWOn"
   },
   "outputs": [],
   "source": [
    "# Run the training of a model\n",
    "!python train.py --name custom_model --dataroot ./training_data --debug\n",
    "# Remember to copy the model after training to a permanent location, that won't get deleted (oudside of InstantCity/InstantCity/)\n",
    "\n",
    "# Copy Test-model\n",
    "!mkdir ./checkpoints/SG15\n",
    "print(\"Copying data...\")\n",
    "!cp -r ./checkpoints/Exp3/Singapore/* ./checkpoints/SG15/\n",
    "print(\"Copy complete.\")\n",
    "!ls ./checkpoints/SG15/"
   ]
  },
  {
   "cell_type": "code",
   "execution_count": null,
   "metadata": {},
   "outputs": [],
   "source": [
    "# Copy Test-dataset\n",
    "!mkdir ./test\n",
    "!rm -r ./test/Test\n",
    "!mkdir ./test/Test\n",
    "!ls ./datasets/Exp4/\n",
    "print(\"Copying data...\")\n",
    "!cp -r ./datasets/Exp4/Paris/Source/* ./test/Test\n",
    "print(\"Copy complete.\")\n",
    "!ls ./test/Test/"
   ]
  },
  {
   "cell_type": "code",
   "execution_count": null,
   "metadata": {
    "id": "R4ILmjXtvLW0"
   },
   "outputs": [],
   "source": [
    "# Copy Oberbillwerder-dataset\n",
    "!mkdir ./test\n",
    "!rm -r ./test/oberbillwerder\n",
    "!mkdir ./test/oberbillwerder\n",
    "!ls ../data_training/oberbillwerder_source\n",
    "print(\"Copying data...\")\n",
    "!cp -r ../data_training/oberbillwerder_source/* ./test/oberbillwerder\n",
    "print(\"Copy complete.\")\n",
    "!ls ./test/oberbillwerder/"
   ]
  },
  {
   "cell_type": "code",
   "execution_count": null,
   "metadata": {},
   "outputs": [],
   "source": [
    "# Available models\n",
    "!ls ./checkpoints/"
   ]
  },
  {
   "cell_type": "code",
   "execution_count": null,
   "metadata": {},
   "outputs": [],
   "source": [
    "# Available test-datasets\n",
    "!ls ./test/"
   ]
  },
  {
   "cell_type": "code",
   "execution_count": null,
   "metadata": {},
   "outputs": [],
   "source": [
    "# Testing of the model\n",
    "# --------------------\n",
    "\n",
    "# Remember:\n",
    "# The model must be available at \"./checkpoints/{name}/\"\n",
    "# The the test images must be available at \"./test/{dataroot}\"\n",
    "# !python test.py --name {name} --dataroot ./test/{dataroot}\n",
    "\n",
    "!rm -r ./fake\\\\16/\n",
    "!python test.py --name custom_model --dataroot ./test/oberbillwerder\n",
    "!ls ./fake\\\\16/"
   ]
  },
  {
   "cell_type": "code",
   "execution_count": null,
   "metadata": {
    "id": "kGobJtf8LN9U"
   },
   "outputs": [],
   "source": [
    "!ls ./fake\\\\16/\n",
    "!ls ./fake\\\\16/33198/\n",
    "# from PIL import Image\n",
    "# im = Image.open(\"./fake\\\\16/33198/22542.png\")\n",
    "# im.show()"
   ]
  },
  {
   "cell_type": "code",
   "execution_count": null,
   "metadata": {},
   "outputs": [],
   "source": []
  }
 ],
 "metadata": {
  "accelerator": "GPU",
  "colab": {
   "provenance": []
  },
  "kernelspec": {
   "display_name": "Python 3 (ipykernel)",
   "language": "python",
   "name": "python3"
  },
  "language_info": {
   "codemirror_mode": {
    "name": "ipython",
    "version": 3
   },
   "file_extension": ".py",
   "mimetype": "text/x-python",
   "name": "python",
   "nbconvert_exporter": "python",
   "pygments_lexer": "ipython3",
   "version": "3.11.3"
  }
 },
 "nbformat": 4,
 "nbformat_minor": 4
}
