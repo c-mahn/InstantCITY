# Clone Repository of InstantCity
!rm -rf ./InstantCity/
!git clone https://github.com/ualsg/InstantCity


# Change working directory to InstantCity
%cd InstantCity


# What's inside
!ls


!cat ./README.md


!python --version


# !pip install condacolab
# import condacolab
# condacolab.install()
# !conda --version
# !which conda


# install modules
!pip install pathlib
!pip install dominate
!pip install scipy
!pip install torch
!pip install Pillow
!pip install torchvision


# Connect to Google Drive to retreive GANmapper_Data
# from google.colab import drive
# drive.mount('/content/drive')
# !ls /content/drive/MyDrive/GANmapper_Data/


# Copy the testing data from GANmapper_Data
# !cp -r /content/drive/MyDrive/GANmapper_Data/checkpoints /content/InstantCity/
# !cp -r /content/drive/MyDrive/GANmapper_Data/datasets /content/InstantCity/


# Unzip GANmapper data
!unzip -q -o ../GANmapper\ Data.zip
# And move it to the parent folder
!cp -r ./GANmapper\ Data/checkpoints .
!cp -r ./GANmapper\ Data/datasets .


# What's inside datasets?
!ls ./datasets
!ls ./datasets/Exp4/


# What's inside checkpoints?
!ls ./checkpoints/
!ls ./checkpoints/Exp3/
!ls ./checkpoints/Exp3/Singapore/


# Copy modified python-scripts, to fix mistakes in the repo
!cp ../modified_files/train.py ./
!cp ../modified_files/test.py ./
!cp ../modified_files/pix2pixHD_model.py ./models/
!cp ../modified_files/models.py ./models/
!cp ../modified_files/image_folder.py ./data/
!cp ../modified_files/aligned_dataset.py ./data/


# What's in the test script?
!cat train.py


# What are the test's parameters?
!cat ./options/train_options.py


# Create the training folder structure
!rm -r ./training_data
!mkdir ./training_data
!mkdir ./training_data/train_A
!mkdir ./training_data/train_B


# Copy training images of Singapore to the training directory
!ls ./datasets/Exp4/
!cp -r ./datasets/Exp4/Singapore/Source/* ./training_data/train_A/
!cp -r ./datasets/Exp4/Singapore/Target/* ./training_data/train_B/


# Copy training images of Allermöhe to the training directory
!cp -r ../data_training/allermoehe_source/15/* ./training_data/train_A/
!cp -r ../data_training/allermoehe_target/15/* ./training_data/train_B/


# Run the training of a model
!python train.py --name custom_model --dataroot ./training_data --debug
# Remember to copy the model after training to a permanent location, that won't get deleted (oudside of InstantCity/InstantCity/)


# Copy Test-model
!mkdir ./checkpoints/SG15
print("Copying data...")
!cp -r ./checkpoints/Exp3/Singapore/* ./checkpoints/SG15/
print("Copy complete.")
!ls ./checkpoints/SG15/


# Copy Test-dataset
!mkdir ./test
!rm -r ./test/Test
!mkdir ./test/Test
!ls ./datasets/Exp4/
print("Copying data...")
!cp -r ./datasets/Exp4/Paris/Source/* ./test/Test
print("Copy complete.")
!ls ./test/Test/


# Available models
!ls ./checkpoints/


# Available test-datasets
!ls ./test/


# Testing of the model
# --------------------

# Remember:
# The model must be available at "./checkpoints/{name}/"
# The the test images must be available at "./test/{dataroot}"
# !python test.py --name {name} --dataroot ./test/{dataroot}

!rm -r ./fake\\16/
!python test.py --name custom_model --dataroot ./test/Test
!ls ./fake\\16/


!ls ./fake\\16/
!ls ./fake\\16/33198/
# from PIL import Image
# im = Image.open("./fake\\16/33198/22542.png")
# im.show()



