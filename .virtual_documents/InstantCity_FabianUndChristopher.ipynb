# Clone Repository of InstantCity
!rm -rf ./InstantCity/
!git clone https://github.com/ualsg/InstantCity


# Change working directory to InstantCity
%cd InstantCity


# What's inside
!ls


!cat ./README.md


!python --version


# !pip install condacolab
# import condacolab
# condacolab.install()
# !conda --version
# !which conda


# install modules
!pip install pathlib
!pip install dominate
!pip install scipy
!pip install torch
!pip install Pillow
!pip install torchvision


# Connect to Google Drive to retreive GANmapper_Data
# from google.colab import drive
# drive.mount('/content/drive')
# !ls /content/drive/MyDrive/GANmapper_Data/


# Copy the testing data from GANmapper_Data
# !cp -r /content/drive/MyDrive/GANmapper_Data/checkpoints /content/InstantCity/
# !cp -r /content/drive/MyDrive/GANmapper_Data/datasets /content/InstantCity/


# Unzip GANmapper data
!unzip -q -o ../GANmapper\ Data.zip
# And move it to the parent folder
!cp -r ./GANmapper\ Data/checkpoints .
!cp -r ./GANmapper\ Data/datasets .


# What's inside datasets?
!ls ./datasets
!ls ./datasets/Exp4/


# What's inside checkpoints?
!ls ./checkpoints/
!ls ./checkpoints/Exp3/
!ls ./checkpoints/Exp3/Singapore/


# Copy Test-dataset
!mkdir ./datasets/Test
print("Copying data...")
!cp -r ./datasets/Exp4/Singapore/Source/* ./datasets/Test/
print("Copy complete.")
!ls ./datasets/Test/


# Copy Test-model
!mkdir ./checkpoints/SG15
print("Copying data...")
!cp -r ./checkpoints/Exp3/Singapore/* ./checkpoints/SG15/
print("Copy complete.")
!ls ./checkpoints/SG15/


# Fix mistakes, that are located in the repo
# ------------------------------------------------------------------------------

# Copy modified python-scripts
!cp ../modified_files/train.py ./
!cp ../modified_files/test.py ./
!cp ../modified_files/pix2pixHD_model.py ./models/
!cp ../modified_files/models.py ./models/

# Copy training images to the training directory
!mkdir ./training_data
!cp -r ./datasets/Exp4/Singapore/Source/* ./training_data/train_A/
!cp -r ./datasets/Exp4/Singapore/Target/* ./training_data/train_B/


# What's in the test script?
# !cat test.py


# What are the test's parameters?
# !cat options/test_options.py


# Run the test of model
!python train.py --name custom_model --dataroot ./training_data
# Rename folder in /content/InstantCity/datasets/Exp4/Singapore into "train_A" and "train_B", to work with it
# Remember the model must be saved at "/content/InstantCity/checkpoints/SG15/"
# !python test.py --name SG15 --dataroot ./datasets/Test


!ls /content/InstantCity/fake\\16/51688/
from PIL import Image
im = Image.open("/content/InstantCity/fake\\16/51688/32519.png")
im.show()
!cp /content/InstantCity/fake\\
